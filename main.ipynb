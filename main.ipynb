{
 "cells": [
  {
   "cell_type": "code",
   "execution_count": 1,
   "metadata": {
    "collapsed": true
   },
   "outputs": [
    {
     "name": "stdout",
     "output_type": "stream",
     "text": [
      "importing\n"
     ]
    }
   ],
   "source": [
    "print('importing')\n",
    "import pandas as pd, numpy as np, torch\n",
    "\n",
    "\n",
    "import sys\n",
    "import argparse\n",
    "from dvae.learning_algo import LearningAlgorithm\n",
    "from dvae.learning_algo_ss import LearningAlgorithm_ss\n",
    "import os\n",
    "import shutil\n",
    "import socket\n",
    "import datetime\n",
    "import pickle\n",
    "import numpy as np\n",
    "import torch\n",
    "import matplotlib.pyplot as plt\n",
    "from dvae.utils import myconf, get_logger, loss_ISD, loss_KLD, loss_MPJPE\n",
    "from dvae.dataset import h36m_dataset, speech_dataset\n",
    "from dvae.model import build_VAE, build_DKF, build_STORN, build_VRNN, build_SRNN, build_RVAE, build_DSAE"
   ]
  },
  {
   "cell_type": "code",
   "execution_count": 2,
   "outputs": [],
   "source": [
    "\n",
    "# STORN, SRNN, vanilla AE\n",
    "\n",
    "dep_train = pd.read_csv('depressed_train.csv')\n",
    "dep_val = pd.read_csv('depressed_val.csv')\n",
    "healthy = pd.read_csv('healthy.csv')\n"
   ],
   "metadata": {
    "collapsed": false,
    "pycharm": {
     "name": "#%%\n"
    }
   }
  },
  {
   "cell_type": "code",
   "execution_count": 3,
   "outputs": [],
   "source": [
    "\n",
    "model = torch.load('/home/harrison_kintsugihello_com/speech_final_project/saved_model/depressed/WSJ0_2021-12-09-08h31_SRNN_z_dim=16/SRNN_checkpoint.pt')\n",
    "\n",
    "\n",
    "\n",
    "\n",
    "\n",
    "class Options:\n",
    "\tdef __init__(self):\n",
    "\t\tself.parser = argparse.ArgumentParser()\n",
    "\t\tself.opt = None\n",
    "\n",
    "\tdef _initial(self):\n",
    "\t\t# Basic config file\n",
    "\t\tself.parser.add_argument('--cfg', type=str, default='/home/harrison_kintsugihello_com/speech_final_project/config/speech/cfg_srnn_depressed.ini', help='config path')\n",
    "\t\t# Schedule sampling\n",
    "\t\tself.parser.add_argument('--ss', action='store_true', help='schedule sampling')\n",
    "\t\tself.parser.add_argument('--use_pretrain', action='store_true', help='if use pretrain')\n",
    "\t\tself.parser.add_argument('--pretrain_dict', type=str, default=None, help='pretrained model dict')\n",
    "\t\t# Resume training\n",
    "\t\tself.parser.add_argument('--reload', action='store_true', help='resume the training')\n",
    "\t\tself.parser.add_argument('--model_dir', type=str, default=None, help='model directory')\n",
    "\n",
    "\tdef get_params(self):\n",
    "\t\tself._initial()\n",
    "\t\tself.opt = self.parser.parse_args()\n",
    "\t\tparams = vars(self.opt)\n",
    "\t\treturn params\n",
    "\n",
    "\n",
    "params = {\n",
    "\t'cfg': '/home/harrison_kintsugihello_com/speech_final_project/config/speech/cfg_srnn_depressed.ini',\n",
    "\t'ss': False,\n",
    "\t'use_pretrain': False,\n",
    "\t'reload': False,\n",
    "\t'model_dir': None,\n",
    "}\n",
    "\n",
    "\n",
    "learning_algo = LearningAlgorithm(params=params)\n",
    "\n",
    "learning_algo.build_model()\n"
   ],
   "metadata": {
    "collapsed": false,
    "pycharm": {
     "name": "#%%\n"
    }
   }
  },
  {
   "cell_type": "code",
   "execution_count": 4,
   "outputs": [
    {
     "data": {
      "text/plain": "<All keys matched successfully>"
     },
     "execution_count": 4,
     "metadata": {},
     "output_type": "execute_result"
    }
   ],
   "source": [
    "\n",
    "learning_algo.model.load_state_dict(model['model_state_dict'])"
   ],
   "metadata": {
    "collapsed": false,
    "pycharm": {
     "name": "#%%\n"
    }
   }
  },
  {
   "cell_type": "code",
   "execution_count": 5,
   "outputs": [],
   "source": [
    "\n",
    "model = learning_algo.model\n"
   ],
   "metadata": {
    "collapsed": false,
    "pycharm": {
     "name": "#%%\n"
    }
   }
  },
  {
   "cell_type": "code",
   "execution_count": 6,
   "outputs": [
    {
     "data": {
      "text/plain": "SRNN(\n  (activation): Tanh()\n  (mlp_x_h): Sequential(\n    (linear0): Linear(in_features=513, out_features=256, bias=True)\n    (activation0): Tanh()\n    (dropout0): Dropout(p=0.0, inplace=False)\n  )\n  (rnn_h): LSTM(256, 128)\n  (mlp_hx_g): Sequential(\n    (linear0): Linear(in_features=641, out_features=256, bias=True)\n    (activation0): Tanh()\n    (dropout0): Dropout(p=0.0, inplace=False)\n  )\n  (rnn_g): LSTM(256, 128)\n  (mlp_gz_z): Sequential(\n    (linear0): Linear(in_features=144, out_features=64, bias=True)\n    (activation0): Tanh()\n    (dropout0): Dropout(p=0.0, inplace=False)\n    (linear1): Linear(in_features=64, out_features=32, bias=True)\n    (activation1): Tanh()\n    (dropout1): Dropout(p=0.0, inplace=False)\n  )\n  (inf_mean): Linear(in_features=32, out_features=16, bias=True)\n  (inf_logvar): Linear(in_features=32, out_features=16, bias=True)\n  (mlp_hz_z): Sequential(\n    (linear0): Linear(in_features=144, out_features=64, bias=True)\n    (activation0): Tanh()\n    (dropout0): Dropout(p=0.0, inplace=False)\n    (linear1): Linear(in_features=64, out_features=32, bias=True)\n    (activation1): Tanh()\n    (dropout1): Dropout(p=0.0, inplace=False)\n  )\n  (prior_mean): Linear(in_features=32, out_features=16, bias=True)\n  (prior_logvar): Linear(in_features=32, out_features=16, bias=True)\n  (mlp_hz_x): Sequential(\n    (linear0): Linear(in_features=144, out_features=256, bias=True)\n    (activation0): Tanh()\n    (dropout0): Dropout(p=0.0, inplace=False)\n  )\n  (gen_out): Linear(in_features=256, out_features=513, bias=True)\n)"
     },
     "execution_count": 6,
     "metadata": {},
     "output_type": "execute_result"
    }
   ],
   "source": [
    "model"
   ],
   "metadata": {
    "collapsed": false,
    "pycharm": {
     "name": "#%%\n"
    }
   }
  },
  {
   "cell_type": "code",
   "execution_count": 7,
   "outputs": [
    {
     "data": {
      "text/plain": "tensor([[0.0000, 0.0000, 0.0000,  ..., 0.0012, 0.0007, 0.0005]])"
     },
     "execution_count": 7,
     "metadata": {},
     "output_type": "execute_result"
    }
   ],
   "source": [
    "from IPython.display import Audio\n",
    "import torchaudio\n",
    "\n",
    "train_ex, val_ex = dep_train.filename[0], dep_val.filename[0]\n",
    "healthy_ex_1, healthy_ex_2 = healthy.filename[0], healthy.filename[1]\n",
    "\n",
    "train_ex, sr = torchaudio.load(f'/home/harrison_kintsugihello_com/data/native_16_trim/{train_ex}.wav')\n",
    "val_ex, sr = torchaudio.load(f'/home/harrison_kintsugihello_com/data/native_16_trim/{val_ex}.wav')\n",
    "healthy_ex_1, sr = torchaudio.load(f'/home/harrison_kintsugihello_com/data/native_16_trim/{healthy_ex_1}.wav')\n",
    "healthy_ex_2, sr = torchaudio.load(f'/home/harrison_kintsugihello_com/data/native_16_trim/{healthy_ex_2}.wav')\n",
    "train_ex\n"
   ],
   "metadata": {
    "collapsed": false,
    "pycharm": {
     "name": "#%%\n"
    }
   }
  },
  {
   "cell_type": "code",
   "execution_count": 8,
   "outputs": [
    {
     "ename": "OSError",
     "evalue": "[Errno 9] Bad file descriptor",
     "output_type": "error",
     "traceback": [
      "\u001B[0;31m---------------------------------------------------------------------------\u001B[0m",
      "\u001B[0;31mOSError\u001B[0m                                   Traceback (most recent call last)",
      "\u001B[0;32m/tmp/ipykernel_32485/643754289.py\u001B[0m in \u001B[0;36m<module>\u001B[0;34m\u001B[0m\n\u001B[0;32m----> 1\u001B[0;31m \u001B[0mAudio\u001B[0m\u001B[0;34m(\u001B[0m\u001B[0mhealthy_ex_2\u001B[0m\u001B[0;34m.\u001B[0m\u001B[0msqueeze\u001B[0m\u001B[0;34m(\u001B[0m\u001B[0;34m)\u001B[0m\u001B[0;34m,\u001B[0m \u001B[0msr\u001B[0m\u001B[0;34m)\u001B[0m\u001B[0;34m\u001B[0m\u001B[0;34m\u001B[0m\u001B[0m\n\u001B[0m\u001B[1;32m      2\u001B[0m \u001B[0;34m\u001B[0m\u001B[0m\n\u001B[1;32m      3\u001B[0m \u001B[0;34m\u001B[0m\u001B[0m\n\u001B[1;32m      4\u001B[0m \u001B[0;34m\u001B[0m\u001B[0m\n\u001B[1;32m      5\u001B[0m \u001B[0;34m\u001B[0m\u001B[0m\n",
      "\u001B[0;32m~/miniconda3/envs/vae_project/lib/python3.8/site-packages/IPython/lib/display.py\u001B[0m in \u001B[0;36m__init__\u001B[0;34m(self, data, filename, url, embed, rate, autoplay, normalize, element_id)\u001B[0m\n\u001B[1;32m    110\u001B[0m         \u001B[0mself\u001B[0m\u001B[0;34m.\u001B[0m\u001B[0mautoplay\u001B[0m \u001B[0;34m=\u001B[0m \u001B[0mautoplay\u001B[0m\u001B[0;34m\u001B[0m\u001B[0;34m\u001B[0m\u001B[0m\n\u001B[1;32m    111\u001B[0m         \u001B[0mself\u001B[0m\u001B[0;34m.\u001B[0m\u001B[0melement_id\u001B[0m \u001B[0;34m=\u001B[0m \u001B[0melement_id\u001B[0m\u001B[0;34m\u001B[0m\u001B[0;34m\u001B[0m\u001B[0m\n\u001B[0;32m--> 112\u001B[0;31m         \u001B[0msuper\u001B[0m\u001B[0;34m(\u001B[0m\u001B[0mAudio\u001B[0m\u001B[0;34m,\u001B[0m \u001B[0mself\u001B[0m\u001B[0;34m)\u001B[0m\u001B[0;34m.\u001B[0m\u001B[0m__init__\u001B[0m\u001B[0;34m(\u001B[0m\u001B[0mdata\u001B[0m\u001B[0;34m=\u001B[0m\u001B[0mdata\u001B[0m\u001B[0;34m,\u001B[0m \u001B[0murl\u001B[0m\u001B[0;34m=\u001B[0m\u001B[0murl\u001B[0m\u001B[0;34m,\u001B[0m \u001B[0mfilename\u001B[0m\u001B[0;34m=\u001B[0m\u001B[0mfilename\u001B[0m\u001B[0;34m)\u001B[0m\u001B[0;34m\u001B[0m\u001B[0;34m\u001B[0m\u001B[0m\n\u001B[0m\u001B[1;32m    113\u001B[0m \u001B[0;34m\u001B[0m\u001B[0m\n\u001B[1;32m    114\u001B[0m         \u001B[0;32mif\u001B[0m \u001B[0mself\u001B[0m\u001B[0;34m.\u001B[0m\u001B[0mdata\u001B[0m \u001B[0;32mis\u001B[0m \u001B[0;32mnot\u001B[0m \u001B[0;32mNone\u001B[0m \u001B[0;32mand\u001B[0m \u001B[0;32mnot\u001B[0m \u001B[0misinstance\u001B[0m\u001B[0;34m(\u001B[0m\u001B[0mself\u001B[0m\u001B[0;34m.\u001B[0m\u001B[0mdata\u001B[0m\u001B[0;34m,\u001B[0m \u001B[0mbytes\u001B[0m\u001B[0;34m)\u001B[0m\u001B[0;34m:\u001B[0m\u001B[0;34m\u001B[0m\u001B[0;34m\u001B[0m\u001B[0m\n",
      "\u001B[0;32m~/miniconda3/envs/vae_project/lib/python3.8/site-packages/IPython/core/display.py\u001B[0m in \u001B[0;36m__init__\u001B[0;34m(self, data, url, filename, metadata)\u001B[0m\n\u001B[1;32m    635\u001B[0m             \u001B[0mself\u001B[0m\u001B[0;34m.\u001B[0m\u001B[0mmetadata\u001B[0m \u001B[0;34m=\u001B[0m \u001B[0;34m{\u001B[0m\u001B[0;34m}\u001B[0m\u001B[0;34m\u001B[0m\u001B[0;34m\u001B[0m\u001B[0m\n\u001B[1;32m    636\u001B[0m \u001B[0;34m\u001B[0m\u001B[0m\n\u001B[0;32m--> 637\u001B[0;31m         \u001B[0mself\u001B[0m\u001B[0;34m.\u001B[0m\u001B[0mreload\u001B[0m\u001B[0;34m(\u001B[0m\u001B[0;34m)\u001B[0m\u001B[0;34m\u001B[0m\u001B[0;34m\u001B[0m\u001B[0m\n\u001B[0m\u001B[1;32m    638\u001B[0m         \u001B[0mself\u001B[0m\u001B[0;34m.\u001B[0m\u001B[0m_check_data\u001B[0m\u001B[0;34m(\u001B[0m\u001B[0;34m)\u001B[0m\u001B[0;34m\u001B[0m\u001B[0;34m\u001B[0m\u001B[0m\n\u001B[1;32m    639\u001B[0m \u001B[0;34m\u001B[0m\u001B[0m\n",
      "\u001B[0;32m~/miniconda3/envs/vae_project/lib/python3.8/site-packages/IPython/lib/display.py\u001B[0m in \u001B[0;36mreload\u001B[0;34m(self)\u001B[0m\n\u001B[1;32m    121\u001B[0m         \u001B[0;32mimport\u001B[0m \u001B[0mmimetypes\u001B[0m\u001B[0;34m\u001B[0m\u001B[0;34m\u001B[0m\u001B[0m\n\u001B[1;32m    122\u001B[0m         \u001B[0;32mif\u001B[0m \u001B[0mself\u001B[0m\u001B[0;34m.\u001B[0m\u001B[0membed\u001B[0m\u001B[0;34m:\u001B[0m\u001B[0;34m\u001B[0m\u001B[0;34m\u001B[0m\u001B[0m\n\u001B[0;32m--> 123\u001B[0;31m             \u001B[0msuper\u001B[0m\u001B[0;34m(\u001B[0m\u001B[0mAudio\u001B[0m\u001B[0;34m,\u001B[0m \u001B[0mself\u001B[0m\u001B[0;34m)\u001B[0m\u001B[0;34m.\u001B[0m\u001B[0mreload\u001B[0m\u001B[0;34m(\u001B[0m\u001B[0;34m)\u001B[0m\u001B[0;34m\u001B[0m\u001B[0;34m\u001B[0m\u001B[0m\n\u001B[0m\u001B[1;32m    124\u001B[0m \u001B[0;34m\u001B[0m\u001B[0m\n\u001B[1;32m    125\u001B[0m         \u001B[0;32mif\u001B[0m \u001B[0mself\u001B[0m\u001B[0;34m.\u001B[0m\u001B[0mfilename\u001B[0m \u001B[0;32mis\u001B[0m \u001B[0;32mnot\u001B[0m \u001B[0;32mNone\u001B[0m\u001B[0;34m:\u001B[0m\u001B[0;34m\u001B[0m\u001B[0;34m\u001B[0m\u001B[0m\n",
      "\u001B[0;32m~/miniconda3/envs/vae_project/lib/python3.8/site-packages/IPython/core/display.py\u001B[0m in \u001B[0;36mreload\u001B[0;34m(self)\u001B[0m\n\u001B[1;32m    660\u001B[0m         \u001B[0;34m\"\"\"Reload the raw data from file or URL.\"\"\"\u001B[0m\u001B[0;34m\u001B[0m\u001B[0;34m\u001B[0m\u001B[0m\n\u001B[1;32m    661\u001B[0m         \u001B[0;32mif\u001B[0m \u001B[0mself\u001B[0m\u001B[0;34m.\u001B[0m\u001B[0mfilename\u001B[0m \u001B[0;32mis\u001B[0m \u001B[0;32mnot\u001B[0m \u001B[0;32mNone\u001B[0m\u001B[0;34m:\u001B[0m\u001B[0;34m\u001B[0m\u001B[0;34m\u001B[0m\u001B[0m\n\u001B[0;32m--> 662\u001B[0;31m             \u001B[0;32mwith\u001B[0m \u001B[0mopen\u001B[0m\u001B[0;34m(\u001B[0m\u001B[0mself\u001B[0m\u001B[0;34m.\u001B[0m\u001B[0mfilename\u001B[0m\u001B[0;34m,\u001B[0m \u001B[0mself\u001B[0m\u001B[0;34m.\u001B[0m\u001B[0m_read_flags\u001B[0m\u001B[0;34m)\u001B[0m \u001B[0;32mas\u001B[0m \u001B[0mf\u001B[0m\u001B[0;34m:\u001B[0m\u001B[0;34m\u001B[0m\u001B[0;34m\u001B[0m\u001B[0m\n\u001B[0m\u001B[1;32m    663\u001B[0m                 \u001B[0mself\u001B[0m\u001B[0;34m.\u001B[0m\u001B[0mdata\u001B[0m \u001B[0;34m=\u001B[0m \u001B[0mf\u001B[0m\u001B[0;34m.\u001B[0m\u001B[0mread\u001B[0m\u001B[0;34m(\u001B[0m\u001B[0;34m)\u001B[0m\u001B[0;34m\u001B[0m\u001B[0;34m\u001B[0m\u001B[0m\n\u001B[1;32m    664\u001B[0m         \u001B[0;32melif\u001B[0m \u001B[0mself\u001B[0m\u001B[0;34m.\u001B[0m\u001B[0murl\u001B[0m \u001B[0;32mis\u001B[0m \u001B[0;32mnot\u001B[0m \u001B[0;32mNone\u001B[0m\u001B[0;34m:\u001B[0m\u001B[0;34m\u001B[0m\u001B[0;34m\u001B[0m\u001B[0m\n",
      "\u001B[0;31mOSError\u001B[0m: [Errno 9] Bad file descriptor"
     ]
    }
   ],
   "source": [
    "\n",
    "Audio(healthy_ex_2.squeeze(), sr)\n",
    "\n",
    "\n"
   ],
   "metadata": {
    "collapsed": false,
    "pycharm": {
     "name": "#%%\n"
    }
   }
  },
  {
   "cell_type": "code",
   "execution_count": 47,
   "outputs": [
    {
     "data": {
      "text/plain": "array([-0.0007354 , -0.00244492, -0.00347459, ..., -0.01331043,\n        0.02859789, -0.03174061], dtype=float32)"
     },
     "execution_count": 47,
     "metadata": {},
     "output_type": "execute_result"
    }
   ],
   "source": [
    "healthy_ex_2.squeeze().numpy()"
   ],
   "metadata": {
    "collapsed": false,
    "pycharm": {
     "name": "#%%\n"
    }
   }
  },
  {
   "cell_type": "code",
   "execution_count": 4,
   "outputs": [],
   "source": [],
   "metadata": {
    "collapsed": false,
    "pycharm": {
     "name": "#%%\n"
    }
   }
  },
  {
   "cell_type": "code",
   "execution_count": 4,
   "outputs": [],
   "source": [],
   "metadata": {
    "collapsed": false,
    "pycharm": {
     "name": "#%%\n"
    }
   }
  },
  {
   "cell_type": "code",
   "execution_count": 4,
   "outputs": [],
   "source": [],
   "metadata": {
    "collapsed": false,
    "pycharm": {
     "name": "#%%\n"
    }
   }
  },
  {
   "cell_type": "code",
   "execution_count": 4,
   "outputs": [],
   "source": [],
   "metadata": {
    "collapsed": false,
    "pycharm": {
     "name": "#%%\n"
    }
   }
  },
  {
   "cell_type": "code",
   "execution_count": 4,
   "outputs": [],
   "source": [],
   "metadata": {
    "collapsed": false,
    "pycharm": {
     "name": "#%%"
    }
   }
  }
 ],
 "metadata": {
  "kernelspec": {
   "display_name": "Python 3",
   "language": "python",
   "name": "python3"
  },
  "language_info": {
   "codemirror_mode": {
    "name": "ipython",
    "version": 2
   },
   "file_extension": ".py",
   "mimetype": "text/x-python",
   "name": "python",
   "nbconvert_exporter": "python",
   "pygments_lexer": "ipython2",
   "version": "2.7.6"
  }
 },
 "nbformat": 4,
 "nbformat_minor": 0
}